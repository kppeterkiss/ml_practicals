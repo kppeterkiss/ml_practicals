{
 "cells": [
  {
   "cell_type": "markdown",
   "id": "4c3cf55c",
   "metadata": {},
   "source": [
    "https://www.blackarbs.com/blog/introduction-hidden-markov-models-python-networkx-sklearn/2/9/2017"
   ]
  },
  {
   "cell_type": "code",
   "execution_count": 2,
   "id": "4281cad9",
   "metadata": {},
   "outputs": [
    {
     "name": "stdout",
     "output_type": "stream",
     "text": [
      "sleeping    0.35\n",
      "eating      0.35\n",
      "running     0.30\n",
      "Name: states, dtype: float64\n",
      "1.0\n"
     ]
    }
   ],
   "source": [
    "import numpy as np\n",
    "import pandas as pd\n",
    "import networkx as nx\n",
    "import matplotlib.pyplot as plt\n",
    "%matplotlib inline\n",
    "\n",
    "# create state space and initial state probabilities\n",
    "\n",
    "states = ['sleeping', 'eating', 'running']\n",
    "pi = [0.35, 0.35, 0.3]\n",
    "state_space = pd.Series(pi, index=states, name='states')\n",
    "print(state_space)\n",
    "print(state_space.sum())\n"
   ]
  },
  {
   "cell_type": "code",
   "execution_count": 21,
   "id": "a3ed1c76",
   "metadata": {},
   "outputs": [
    {
     "name": "stdout",
     "output_type": "stream",
     "text": [
      "         sleeping eating running\n",
      "sleeping      0.4    0.2     0.4\n",
      "eating       0.45   0.45     0.1\n",
      "running      0.45   0.25     0.3\n",
      "\n",
      " [[0.4 0.2 0.4]\n",
      " [0.45 0.45 0.1]\n",
      " [0.45 0.25 0.3]] (3, 3) \n",
      "\n",
      "sleeping    1.0\n",
      "eating      1.0\n",
      "running     1.0\n",
      "dtype: float64\n"
     ]
    }
   ],
   "source": [
    "# create transition matrix\n",
    "# equals transition probability matrix of changing states given a state\n",
    "# matrix is size (M x M) where M is number of states\n",
    "\n",
    "q_df = pd.DataFrame(columns=states, index=states)\n",
    "q_df.loc[states[0]] = [0.4, 0.2, 0.4]\n",
    "q_df.loc[states[1]] = [0.45, 0.45, 0.1]\n",
    "q_df.loc[states[2]] = [0.45, 0.25, .3]\n",
    "\n",
    "print(q_df)\n",
    "\n",
    "q = q_df.values\n",
    "print('\\n', q, q.shape, '\\n')\n",
    "print(q_df.sum(axis=1))\n",
    "\n"
   ]
  },
  {
   "cell_type": "code",
   "execution_count": 4,
   "id": "936cfe2e",
   "metadata": {},
   "outputs": [
    {
     "name": "stdout",
     "output_type": "stream",
     "text": [
      "{('eating', 'eating'): 0.45,\n",
      " ('eating', 'running'): 0.1,\n",
      " ('eating', 'sleeping'): 0.45,\n",
      " ('running', 'eating'): 0.25,\n",
      " ('running', 'running'): 0.3,\n",
      " ('running', 'sleeping'): 0.45,\n",
      " ('sleeping', 'eating'): 0.2,\n",
      " ('sleeping', 'running'): 0.4,\n",
      " ('sleeping', 'sleeping'): 0.4}\n"
     ]
    }
   ],
   "source": [
    "from pprint import pprint \n",
    "\n",
    "# create a function that maps transition probability dataframe \n",
    "# to markov edges and weights\n",
    "\n",
    "def _get_markov_edges(Q):\n",
    "    edges = {}\n",
    "    for col in Q.columns:\n",
    "        for idx in Q.index:\n",
    "            edges[(idx,col)] = Q.loc[idx,col]\n",
    "    return edges\n",
    "\n",
    "edges_wts = _get_markov_edges(q_df)\n",
    "pprint(edges_wts)\n"
   ]
  },
  {
   "cell_type": "code",
   "execution_count": 5,
   "id": "f1b43f10",
   "metadata": {},
   "outputs": [
    {
     "name": "stdout",
     "output_type": "stream",
     "text": [
      "Nodes:\n",
      "['sleeping', 'eating', 'running']\n",
      "\n",
      "0.4\n",
      "0.45\n",
      "0.45\n",
      "0.2\n",
      "0.45\n",
      "0.25\n",
      "0.4\n",
      "0.1\n",
      "0.3\n",
      "Edges:\n",
      "OutMultiEdgeDataView([('sleeping', 'sleeping', {'label': '0.4'}), ('sleeping', 'eating', {'label': '0.2'}), ('sleeping', 'running', {'label': '0.4'}), ('eating', 'sleeping', {'label': '0.45'}), ('eating', 'eating', {'label': '0.45'}), ('eating', 'running', {'label': '0.1'}), ('running', 'sleeping', {'label': '0.45'}), ('running', 'eating', {'label': '0.25'}), ('running', 'running', {'label': '0.3'})])\n"
     ]
    },
    {
     "data": {
      "image/png": "[encoded data removed]",
      "text/plain": [
       "<Figure size 640x480 with 1 Axes>"
      ]
     },
     "metadata": {},
     "output_type": "display_data"
    }
   ],
   "source": [
    "# create graph object\n",
    "G = nx.MultiDiGraph()\n",
    "\n",
    "# nodes correspond to states\n",
    "G.add_nodes_from(states)\n",
    "print(f'Nodes:\\n{G.nodes()}\\n')\n",
    "\n",
    "# edges represent transition probabilities\n",
    "for k, v in edges_wts.items():\n",
    "    print(v)\n",
    "    tmp_origin, tmp_destination = k[0], k[1]\n",
    "    #G.add_edge(tmp_origin, tmp_destination, weight=v, label=v)\n",
    "    G.add_edge(tmp_origin, tmp_destination, label=str(v))\n",
    "\n",
    "print(f'Edges:')\n",
    "pprint(G.edges(data=True))    \n",
    "\n",
    "pos = nx.nx_pydot.graphviz_layout(G, prog='dot')\n",
    "nx.draw_networkx(G, pos)\n",
    "\n",
    "# create edge labels for jupyter plot but is not necessary\n",
    "edge_labels = {(n1,n2):d['label'] for n1,n2,d in G.edges(data=True)}\n",
    "nx.draw_networkx_edge_labels(G , pos, edge_labels=edge_labels)\n",
    "nx.drawing.nx_pydot.write_dot(G, 'pet_dog_markov.dot')\n"
   ]
  },
  {
   "cell_type": "code",
   "execution_count": 22,
   "id": "0253f608",
   "metadata": {},
   "outputs": [],
   "source": [
    "!dot -Tsvg pet_dog_markov.dot > ../images/4/output_1.svg"
   ]
  },
  {
   "cell_type": "code",
   "execution_count": 23,
   "id": "41400064",
   "metadata": {},
   "outputs": [
    {
     "data": {
      "image/svg+xml": [
       "<svg xmlns=\"http://www.w3.org/2000/svg\" xmlns:xlink=\"http://www.w3.org/1999/xlink\" width=\"201pt\" height=\"218pt\" viewBox=\"0.00 0.00 200.79 218.00\">\n",
       "<g id=\"graph0\" class=\"graph\" transform=\"scale(1 1) rotate(0) translate(4 214)\">\n",
       "<polygon fill=\"white\" stroke=\"transparent\" points=\"-4,4 -4,-214 196.79,-214 196.79,4 -4,4\"/>\n",
       "<!-- sleeping -->\n",
       "<g id=\"node1\" class=\"node\">\n",
       "<title>sleeping</title>\n",
       "<ellipse fill=\"none\" stroke=\"black\" cx=\"116.5\" cy=\"-192\" rx=\"40.09\" ry=\"18\"/>\n",
       "<text text-anchor=\"middle\" x=\"116.5\" y=\"-188.3\" font-family=\"Times,serif\" font-size=\"14.00\">sleeping</text>\n",
       "</g>\n",
       "<!-- sleeping&#45;&gt;sleeping -->\n",
       "<g id=\"edge1\" class=\"edge\">\n",
       "<title>sleeping-&gt;sleeping</title>\n",
       "<path fill=\"none\" stroke=\"black\" d=\"M152.93,-199.88C165.08,-199.88 174.79,-197.25 174.79,-192 174.79,-188.31 169.99,-185.91 162.92,-184.82\"/>\n",
       "<polygon fill=\"black\" stroke=\"black\" points=\"163.15,-181.33 152.93,-184.12 162.67,-188.31 163.15,-181.33\"/>\n",
       "<text text-anchor=\"middle\" x=\"183.79\" y=\"-188.3\" font-family=\"Times,serif\" font-size=\"14.00\">0.4</text>\n",
       "</g>\n",
       "<!-- eating -->\n",
       "<g id=\"node2\" class=\"node\">\n",
       "<title>eating</title>\n",
       "<ellipse fill=\"none\" stroke=\"black\" cx=\"32.5\" cy=\"-105\" rx=\"32.49\" ry=\"18\"/>\n",
       "<text text-anchor=\"middle\" x=\"32.5\" y=\"-101.3\" font-family=\"Times,serif\" font-size=\"14.00\">eating</text>\n",
       "</g>\n",
       "<!-- sleeping&#45;&gt;eating -->\n",
       "<g id=\"edge2\" class=\"edge\">\n",
       "<title>sleeping-&gt;eating</title>\n",
       "<path fill=\"none\" stroke=\"black\" d=\"M88.38,-179.03C77.39,-173.3 65.33,-165.57 56.5,-156 50.21,-149.18 45.26,-140.42 41.52,-132.14\"/>\n",
       "<polygon fill=\"black\" stroke=\"black\" points=\"44.72,-130.71 37.69,-122.78 38.24,-133.36 44.72,-130.71\"/>\n",
       "<text text-anchor=\"middle\" x=\"65.5\" y=\"-144.8\" font-family=\"Times,serif\" font-size=\"14.00\">0.2</text>\n",
       "</g>\n",
       "<!-- running -->\n",
       "<g id=\"node3\" class=\"node\">\n",
       "<title>running</title>\n",
       "<ellipse fill=\"none\" stroke=\"black\" cx=\"116.5\" cy=\"-18\" rx=\"38.19\" ry=\"18\"/>\n",
       "<text text-anchor=\"middle\" x=\"116.5\" y=\"-14.3\" font-family=\"Times,serif\" font-size=\"14.00\">running</text>\n",
       "</g>\n",
       "<!-- sleeping&#45;&gt;running -->\n",
       "<g id=\"edge3\" class=\"edge\">\n",
       "<title>sleeping-&gt;running</title>\n",
       "<path fill=\"none\" stroke=\"black\" d=\"M116.5,-173.88C116.5,-144 116.5,-82.11 116.5,-46.27\"/>\n",
       "<polygon fill=\"black\" stroke=\"black\" points=\"120,-46.05 116.5,-36.05 113,-46.05 120,-46.05\"/>\n",
       "<text text-anchor=\"middle\" x=\"125.5\" y=\"-101.3\" font-family=\"Times,serif\" font-size=\"14.00\">0.4</text>\n",
       "</g>\n",
       "<!-- eating&#45;&gt;sleeping -->\n",
       "<g id=\"edge4\" class=\"edge\">\n",
       "<title>eating-&gt;sleeping</title>\n",
       "<path fill=\"none\" stroke=\"black\" d=\"M50.68,-119.98C58.31,-126.13 67.1,-133.63 74.5,-141 82.45,-148.92 90.53,-158.19 97.45,-166.59\"/>\n",
       "<polygon fill=\"black\" stroke=\"black\" points=\"94.93,-169.03 103.94,-174.6 100.37,-164.63 94.93,-169.03\"/>\n",
       "<text text-anchor=\"middle\" x=\"100\" y=\"-144.8\" font-family=\"Times,serif\" font-size=\"14.00\">0.45</text>\n",
       "</g>\n",
       "<!-- eating&#45;&gt;eating -->\n",
       "<g id=\"edge5\" class=\"edge\">\n",
       "<title>eating-&gt;eating</title>\n",
       "<path fill=\"none\" stroke=\"black\" d=\"M61.81,-112.84C73.35,-113.23 82.99,-110.62 82.99,-105 82.99,-101.14 78.44,-98.7 71.84,-97.67\"/>\n",
       "<polygon fill=\"black\" stroke=\"black\" points=\"71.97,-94.18 61.81,-97.16 71.62,-101.17 71.97,-94.18\"/>\n",
       "<text text-anchor=\"middle\" x=\"95.49\" y=\"-101.3\" font-family=\"Times,serif\" font-size=\"14.00\">0.45</text>\n",
       "</g>\n",
       "<!-- eating&#45;&gt;running -->\n",
       "<g id=\"edge6\" class=\"edge\">\n",
       "<title>eating-&gt;running</title>\n",
       "<path fill=\"none\" stroke=\"black\" d=\"M37.69,-87.22C41.58,-76.74 47.75,-63.48 56.5,-54 63.17,-46.76 71.69,-40.58 80.2,-35.52\"/>\n",
       "<polygon fill=\"black\" stroke=\"black\" points=\"81.94,-38.56 88.99,-30.65 78.54,-32.44 81.94,-38.56\"/>\n",
       "<text text-anchor=\"middle\" x=\"65.5\" y=\"-57.8\" font-family=\"Times,serif\" font-size=\"14.00\">0.1</text>\n",
       "</g>\n",
       "<!-- running&#45;&gt;sleeping -->\n",
       "<g id=\"edge7\" class=\"edge\">\n",
       "<title>running-&gt;sleeping</title>\n",
       "<path fill=\"none\" stroke=\"black\" d=\"M124,-35.91C129.49,-49.42 136.35,-69.01 138.5,-87 142.16,-117.65 139.89,-126.59 130.5,-156 129.6,-158.81 128.59,-161.71 127.53,-164.58\"/>\n",
       "<polygon fill=\"black\" stroke=\"black\" points=\"124.19,-163.5 123.83,-174.09 130.71,-166.04 124.19,-163.5\"/>\n",
       "<text text-anchor=\"middle\" x=\"152\" y=\"-101.3\" font-family=\"Times,serif\" font-size=\"14.00\">0.45</text>\n",
       "</g>\n",
       "<!-- running&#45;&gt;eating -->\n",
       "<g id=\"edge8\" class=\"edge\">\n",
       "<title>running-&gt;eating</title>\n",
       "<path fill=\"none\" stroke=\"black\" d=\"M103.94,-35.4C95.93,-45.48 85.1,-58.44 74.5,-69 69.53,-73.95 63.93,-78.96 58.47,-83.58\"/>\n",
       "<polygon fill=\"black\" stroke=\"black\" points=\"56.16,-80.95 50.68,-90.02 60.62,-86.35 56.16,-80.95\"/>\n",
       "<text text-anchor=\"middle\" x=\"100\" y=\"-57.8\" font-family=\"Times,serif\" font-size=\"14.00\">0.25</text>\n",
       "</g>\n",
       "<!-- running&#45;&gt;running -->\n",
       "<g id=\"edge9\" class=\"edge\">\n",
       "<title>running-&gt;running</title>\n",
       "<path fill=\"none\" stroke=\"black\" d=\"M151.16,-25.87C163.16,-25.96 172.84,-23.33 172.84,-18 172.84,-14.33 168.27,-11.95 161.51,-10.84\"/>\n",
       "<polygon fill=\"black\" stroke=\"black\" points=\"161.38,-7.33 151.16,-10.13 160.9,-14.31 161.38,-7.33\"/>\n",
       "<text text-anchor=\"middle\" x=\"181.84\" y=\"-14.3\" font-family=\"Times,serif\" font-size=\"14.00\">0.3</text>\n",
       "</g>\n",
       "</g>\n",
       "</svg>"
      ],
      "text/plain": [
       "<IPython.core.display.SVG object>"
      ]
     },
     "metadata": {},
     "output_type": "display_data"
    }
   ],
   "source": [
    "from IPython.display import SVG, display\n",
    "display(SVG('../images/4/output_1.svg'))"
   ]
  },
  {
   "cell_type": "code",
   "execution_count": 8,
   "id": "08105922",
   "metadata": {},
   "outputs": [
    {
     "name": "stdout",
     "output_type": "stream",
     "text": [
      "healthy    0.5\n",
      "sick       0.5\n",
      "Name: states, dtype: float64\n",
      "\n",
      " 1.0\n"
     ]
    }
   ],
   "source": [
    "# create state space and initial state probabilities\n",
    "\n",
    "hidden_states = ['healthy', 'sick']\n",
    "pi = [0.5, 0.5]\n",
    "state_space = pd.Series(pi, index=hidden_states, name='states')\n",
    "print(state_space)\n",
    "print('\\n', state_space.sum())\n"
   ]
  },
  {
   "cell_type": "code",
   "execution_count": 24,
   "id": "59974d86",
   "metadata": {},
   "outputs": [
    {
     "name": "stdout",
     "output_type": "stream",
     "text": [
      "        healthy sick\n",
      "healthy     0.7  0.3\n",
      "sick        0.4  0.6\n",
      "\n",
      " [[0.7 0.3]\n",
      " [0.4 0.6]] (2, 2) \n",
      "\n",
      "healthy    1.0\n",
      "sick       1.0\n",
      "dtype: float64\n"
     ]
    }
   ],
   "source": [
    "# create hidden transition matrix\n",
    "# a or alpha \n",
    "#   = transition probability matrix of changing states given a state\n",
    "# matrix is size (M x M) where M is number of states\n",
    "\n",
    "a_df = pd.DataFrame(columns=hidden_states, index=hidden_states)\n",
    "a_df.loc[hidden_states[0]] = [0.7, 0.3]\n",
    "a_df.loc[hidden_states[1]] = [0.4, 0.6]\n",
    "\n",
    "print(a_df)\n",
    "\n",
    "a = a_df.values\n",
    "print('\\n', a, a.shape, '\\n')\n",
    "print(a_df.sum(axis=1))\n"
   ]
  },
  {
   "cell_type": "code",
   "execution_count": 11,
   "id": "c2cf2383",
   "metadata": {},
   "outputs": [
    {
     "name": "stdout",
     "output_type": "stream",
     "text": [
      "        sleeping eating running\n",
      "healthy      0.2    0.6     0.2\n",
      "sick         0.4    0.1     0.5\n",
      "\n",
      " [[0.2 0.6 0.2]\n",
      " [0.4 0.1 0.5]] (2, 3) \n",
      "\n",
      "healthy    1.0\n",
      "sick       1.0\n",
      "dtype: float64\n"
     ]
    }
   ],
   "source": [
    "# create matrix of observation (emission) probabilities\n",
    "# b or beta = observation probabilities given state\n",
    "# matrix is size (M x O) where M is number of states \n",
    "# and O is number of different possible observations\n",
    "\n",
    "observable_states = states\n",
    "\n",
    "b_df = pd.DataFrame(columns=observable_states, index=hidden_states)\n",
    "b_df.loc[hidden_states[0]] = [0.2, 0.6, 0.2]\n",
    "b_df.loc[hidden_states[1]] = [0.4, 0.1, 0.5]\n",
    "\n",
    "print(b_df)\n",
    "\n",
    "b = b_df.values\n",
    "print('\\n', b, b.shape, '\\n')\n",
    "print(b_df.sum(axis=1))\n"
   ]
  },
  {
   "cell_type": "code",
   "execution_count": 25,
   "id": "c547537c",
   "metadata": {},
   "outputs": [
    {
     "name": "stdout",
     "output_type": "stream",
     "text": [
      "{('healthy', 'healthy'): 0.7,\n",
      " ('healthy', 'sick'): 0.3,\n",
      " ('sick', 'healthy'): 0.4,\n",
      " ('sick', 'sick'): 0.6}\n",
      "{('healthy', 'eating'): 0.6,\n",
      " ('healthy', 'running'): 0.2,\n",
      " ('healthy', 'sleeping'): 0.2,\n",
      " ('sick', 'eating'): 0.1,\n",
      " ('sick', 'running'): 0.5,\n",
      " ('sick', 'sleeping'): 0.4}\n"
     ]
    }
   ],
   "source": [
    "# create graph edges and weights\n",
    "\n",
    "hide_edges_wts = _get_markov_edges(a_df)\n",
    "pprint(hide_edges_wts)\n",
    "\n",
    "emit_edges_wts = _get_markov_edges(b_df)\n",
    "pprint(emit_edges_wts)\n"
   ]
  },
  {
   "cell_type": "code",
   "execution_count": 26,
   "id": "526cd78e",
   "metadata": {},
   "outputs": [
    {
     "name": "stdout",
     "output_type": "stream",
     "text": [
      "Nodes:\n",
      "['healthy', 'sick']\n",
      "\n",
      "Edges:\n",
      "OutMultiEdgeDataView([('healthy', 'healthy', {'weight': '0.7', 'label': '0.7'}), ('healthy', 'sick', {'weight': '0.3', 'label': '0.3'}), ('healthy', 'sleeping', {'weight': '0.2', 'label': '0.2'}), ('healthy', 'eating', {'weight': '0.6', 'label': '0.6'}), ('healthy', 'running', {'weight': '0.2', 'label': '0.2'}), ('sick', 'healthy', {'weight': '0.4', 'label': '0.4'}), ('sick', 'sick', {'weight': '0.6', 'label': '0.6'}), ('sick', 'sleeping', {'weight': '0.4', 'label': '0.4'}), ('sick', 'eating', {'weight': '0.1', 'label': '0.1'}), ('sick', 'running', {'weight': '0.5', 'label': '0.5'})])\n"
     ]
    },
    {
     "data": {
      "image/png": "[encoded data removed]",
      "text/plain": [
       "<Figure size 640x480 with 1 Axes>"
      ]
     },
     "metadata": {},
     "output_type": "display_data"
    }
   ],
   "source": [
    "# create graph object\n",
    "G = nx.MultiDiGraph()\n",
    "\n",
    "# nodes correspond to states\n",
    "G.add_nodes_from(hidden_states)\n",
    "print(f'Nodes:\\n{G.nodes()}\\n')\n",
    "\n",
    "# edges represent hidden probabilities\n",
    "for k, v in hide_edges_wts.items():\n",
    "    tmp_origin, tmp_destination = k[0], k[1]\n",
    "    G.add_edge(tmp_origin, tmp_destination, weight=str(v), label=str(v))\n",
    "\n",
    "# edges represent emission probabilities\n",
    "for k, v in emit_edges_wts.items():\n",
    "    tmp_origin, tmp_destination = k[0], k[1]\n",
    "    G.add_edge(tmp_origin, tmp_destination, weight=str(v), label=str(v))\n",
    "    \n",
    "print(f'Edges:')\n",
    "pprint(G.edges(data=True))    \n",
    "\n",
    "pos = nx.drawing.nx_pydot.graphviz_layout(G, prog='neato')\n",
    "nx.draw_networkx(G, pos)\n",
    "\n",
    "# create edge labels for jupyter plot but is not necessary\n",
    "emit_edge_labels = {(n1,n2):d['label'] for n1,n2,d in G.edges(data=True)}\n",
    "nx.draw_networkx_edge_labels(G , pos, edge_labels=emit_edge_labels)\n",
    "nx.drawing.nx_pydot.write_dot(G, 'pet_dog_hidden_markov.dot')\n"
   ]
  },
  {
   "cell_type": "code",
   "execution_count": 14,
   "id": "933f99da",
   "metadata": {},
   "outputs": [],
   "source": [
    "!dot -Tsvg pet_dog_hidden_markov.dot > ../images/4/output_2.svg"
   ]
  },
  {
   "cell_type": "code",
   "execution_count": 15,
   "id": "0fb23d7b",
   "metadata": {},
   "outputs": [
    {
     "data": {
      "image/svg+xml": [
       "<svg xmlns=\"http://www.w3.org/2000/svg\" xmlns:xlink=\"http://www.w3.org/1999/xlink\" width=\"289pt\" height=\"218pt\" viewBox=\"0.00 0.00 289.30 218.00\">\n",
       "<g id=\"graph0\" class=\"graph\" transform=\"scale(1 1) rotate(0) translate(4 214)\">\n",
       "<polygon fill=\"white\" stroke=\"transparent\" points=\"-4,4 -4,-214 285.3,-214 285.3,4 -4,4\"/>\n",
       "<!-- healthy -->\n",
       "<g id=\"node1\" class=\"node\">\n",
       "<title>healthy</title>\n",
       "<ellipse fill=\"none\" stroke=\"black\" cx=\"60.3\" cy=\"-192\" rx=\"36.29\" ry=\"18\"/>\n",
       "<text text-anchor=\"middle\" x=\"60.3\" y=\"-188.3\" font-family=\"Times,serif\" font-size=\"14.00\">healthy</text>\n",
       "</g>\n",
       "<!-- healthy&#45;&gt;healthy -->\n",
       "<g id=\"edge1\" class=\"edge\">\n",
       "<title>healthy-&gt;healthy</title>\n",
       "<path fill=\"none\" stroke=\"black\" d=\"M93.23,-199.87C105.05,-200.04 114.69,-197.41 114.69,-192 114.69,-188.28 110.14,-185.88 103.44,-184.79\"/>\n",
       "<polygon fill=\"black\" stroke=\"black\" points=\"103.43,-181.28 93.23,-184.13 102.98,-188.27 103.43,-181.28\"/>\n",
       "<text text-anchor=\"middle\" x=\"123.69\" y=\"-188.3\" font-family=\"Times,serif\" font-size=\"14.00\">0.7</text>\n",
       "</g>\n",
       "<!-- sick -->\n",
       "<g id=\"node2\" class=\"node\">\n",
       "<title>sick</title>\n",
       "<ellipse fill=\"none\" stroke=\"black\" cx=\"184.3\" cy=\"-105\" rx=\"27\" ry=\"18\"/>\n",
       "<text text-anchor=\"middle\" x=\"184.3\" y=\"-101.3\" font-family=\"Times,serif\" font-size=\"14.00\">sick</text>\n",
       "</g>\n",
       "<!-- healthy&#45;&gt;sick -->\n",
       "<g id=\"edge2\" class=\"edge\">\n",
       "<title>healthy-&gt;sick</title>\n",
       "<path fill=\"none\" stroke=\"black\" d=\"M87.74,-180.09C101.66,-173.97 118.5,-165.62 132.3,-156 143.69,-148.05 154.98,-137.6 164.11,-128.31\"/>\n",
       "<polygon fill=\"black\" stroke=\"black\" points=\"166.85,-130.51 171.22,-120.86 161.78,-125.67 166.85,-130.51\"/>\n",
       "<text text-anchor=\"middle\" x=\"159.3\" y=\"-144.8\" font-family=\"Times,serif\" font-size=\"14.00\">0.3</text>\n",
       "</g>\n",
       "<!-- sleeping -->\n",
       "<g id=\"node3\" class=\"node\">\n",
       "<title>sleeping</title>\n",
       "<ellipse fill=\"none\" stroke=\"black\" cx=\"40.3\" cy=\"-18\" rx=\"40.09\" ry=\"18\"/>\n",
       "<text text-anchor=\"middle\" x=\"40.3\" y=\"-14.3\" font-family=\"Times,serif\" font-size=\"14.00\">sleeping</text>\n",
       "</g>\n",
       "<!-- healthy&#45;&gt;sleeping -->\n",
       "<g id=\"edge3\" class=\"edge\">\n",
       "<title>healthy-&gt;sleeping</title>\n",
       "<path fill=\"none\" stroke=\"black\" d=\"M58.31,-173.88C54.83,-144 47.64,-82.11 43.47,-46.27\"/>\n",
       "<polygon fill=\"black\" stroke=\"black\" points=\"46.91,-45.58 42.28,-36.05 39.96,-46.39 46.91,-45.58\"/>\n",
       "<text text-anchor=\"middle\" x=\"61.3\" y=\"-101.3\" font-family=\"Times,serif\" font-size=\"14.00\">0.2</text>\n",
       "</g>\n",
       "<!-- eating -->\n",
       "<g id=\"node4\" class=\"node\">\n",
       "<title>eating</title>\n",
       "<ellipse fill=\"none\" stroke=\"black\" cx=\"228.3\" cy=\"-18\" rx=\"32.49\" ry=\"18\"/>\n",
       "<text text-anchor=\"middle\" x=\"228.3\" y=\"-14.3\" font-family=\"Times,serif\" font-size=\"14.00\">eating</text>\n",
       "</g>\n",
       "<!-- healthy&#45;&gt;eating -->\n",
       "<g id=\"edge4\" class=\"edge\">\n",
       "<title>healthy-&gt;eating</title>\n",
       "<path fill=\"none\" stroke=\"black\" d=\"M96.88,-190.48C143.14,-187.59 221,-174.79 256.3,-123 272.59,-99.1 258.97,-66.11 245.64,-43.74\"/>\n",
       "<polygon fill=\"black\" stroke=\"black\" points=\"248.51,-41.75 240.22,-35.15 242.59,-45.48 248.51,-41.75\"/>\n",
       "<text text-anchor=\"middle\" x=\"272.3\" y=\"-101.3\" font-family=\"Times,serif\" font-size=\"14.00\">0.6</text>\n",
       "</g>\n",
       "<!-- running -->\n",
       "<g id=\"node5\" class=\"node\">\n",
       "<title>running</title>\n",
       "<ellipse fill=\"none\" stroke=\"black\" cx=\"139.3\" cy=\"-18\" rx=\"38.19\" ry=\"18\"/>\n",
       "<text text-anchor=\"middle\" x=\"139.3\" y=\"-14.3\" font-family=\"Times,serif\" font-size=\"14.00\">running</text>\n",
       "</g>\n",
       "<!-- healthy&#45;&gt;running -->\n",
       "<g id=\"edge5\" class=\"edge\">\n",
       "<title>healthy-&gt;running</title>\n",
       "<path fill=\"none\" stroke=\"black\" d=\"M63.9,-173.86C70.84,-141.79 86.53,-74.16 99.3,-54 102.38,-49.13 106.35,-44.55 110.57,-40.41\"/>\n",
       "<polygon fill=\"black\" stroke=\"black\" points=\"113.22,-42.74 118.34,-33.47 108.55,-37.52 113.22,-42.74\"/>\n",
       "<text text-anchor=\"middle\" x=\"94.3\" y=\"-101.3\" font-family=\"Times,serif\" font-size=\"14.00\">0.2</text>\n",
       "</g>\n",
       "<!-- sick&#45;&gt;healthy -->\n",
       "<g id=\"edge6\" class=\"edge\">\n",
       "<title>sick-&gt;healthy</title>\n",
       "<path fill=\"none\" stroke=\"black\" d=\"M161.18,-114.53C146,-120.69 126.1,-129.87 110.3,-141 99.58,-148.54 89.11,-158.49 80.54,-167.52\"/>\n",
       "<polygon fill=\"black\" stroke=\"black\" points=\"77.73,-165.41 73.54,-175.14 82.89,-170.14 77.73,-165.41\"/>\n",
       "<text text-anchor=\"middle\" x=\"119.3\" y=\"-144.8\" font-family=\"Times,serif\" font-size=\"14.00\">0.4</text>\n",
       "</g>\n",
       "<!-- sick&#45;&gt;sick -->\n",
       "<g id=\"edge7\" class=\"edge\">\n",
       "<title>sick-&gt;sick</title>\n",
       "<path fill=\"none\" stroke=\"black\" d=\"M208.83,-112.75C219.8,-113.49 229.3,-110.91 229.3,-105 229.3,-101.03 225.01,-98.56 218.87,-97.59\"/>\n",
       "<polygon fill=\"black\" stroke=\"black\" points=\"218.94,-94.09 208.83,-97.25 218.7,-101.09 218.94,-94.09\"/>\n",
       "<text text-anchor=\"middle\" x=\"238.3\" y=\"-101.3\" font-family=\"Times,serif\" font-size=\"14.00\">0.6</text>\n",
       "</g>\n",
       "<!-- sick&#45;&gt;sleeping -->\n",
       "<g id=\"edge8\" class=\"edge\">\n",
       "<title>sick-&gt;sleeping</title>\n",
       "<path fill=\"none\" stroke=\"black\" d=\"M164.58,-92.36C140.81,-78.33 100.54,-54.56 72.3,-37.89\"/>\n",
       "<polygon fill=\"black\" stroke=\"black\" points=\"73.98,-34.82 63.59,-32.75 70.42,-40.85 73.98,-34.82\"/>\n",
       "<text text-anchor=\"middle\" x=\"129.3\" y=\"-57.8\" font-family=\"Times,serif\" font-size=\"14.00\">0.4</text>\n",
       "</g>\n",
       "<!-- sick&#45;&gt;eating -->\n",
       "<g id=\"edge9\" class=\"edge\">\n",
       "<title>sick-&gt;eating</title>\n",
       "<path fill=\"none\" stroke=\"black\" d=\"M185.74,-87.01C187.14,-76.95 189.9,-64.22 195.3,-54 197.72,-49.41 200.92,-44.99 204.36,-40.92\"/>\n",
       "<polygon fill=\"black\" stroke=\"black\" points=\"206.93,-43.3 211.16,-33.58 201.8,-38.54 206.93,-43.3\"/>\n",
       "<text text-anchor=\"middle\" x=\"204.3\" y=\"-57.8\" font-family=\"Times,serif\" font-size=\"14.00\">0.1</text>\n",
       "</g>\n",
       "<!-- sick&#45;&gt;running -->\n",
       "<g id=\"edge10\" class=\"edge\">\n",
       "<title>sick-&gt;running</title>\n",
       "<path fill=\"none\" stroke=\"black\" d=\"M175.62,-87.61C169.19,-75.46 160.29,-58.66 152.92,-44.73\"/>\n",
       "<polygon fill=\"black\" stroke=\"black\" points=\"155.87,-42.83 148.1,-35.63 149.69,-46.1 155.87,-42.83\"/>\n",
       "<text text-anchor=\"middle\" x=\"173.3\" y=\"-57.8\" font-family=\"Times,serif\" font-size=\"14.00\">0.5</text>\n",
       "</g>\n",
       "</g>\n",
       "</svg>"
      ],
      "text/plain": [
       "<IPython.core.display.SVG object>"
      ]
     },
     "metadata": {},
     "output_type": "display_data"
    }
   ],
   "source": [
    "from IPython.display import SVG, display\n",
    "display(SVG('../images/4/output_2.svg'))"
   ]
  },
  {
   "cell_type": "code",
   "execution_count": 28,
   "id": "61382b89",
   "metadata": {},
   "outputs": [
    {
     "name": "stdout",
     "output_type": "stream",
     "text": [
      "   Obs_code   Obs_seq\n",
      "0         1    eating\n",
      "1         1    eating\n",
      "2         2   running\n",
      "3         1    eating\n",
      "4         0  sleeping\n",
      "5         1    eating\n",
      "6         2   running\n",
      "7         1    eating\n",
      "8         0  sleeping\n",
      "9         2   running\n",
      "10        2   running\n",
      "11        0  sleeping\n",
      "12        1    eating\n",
      "13        0  sleeping\n",
      "14        1    eating\n"
     ]
    }
   ],
   "source": [
    "# observation sequence of dog's behaviors\n",
    "# observations are encoded numerically\n",
    "\n",
    "obs_map = {'sleeping':0, 'eating':1, 'running':2}\n",
    "obs = np.array([1,1,2,1,0,1,2,1,0,2,2,0,1,0,1])\n",
    "\n",
    "inv_obs_map = dict((v,k) for k, v in obs_map.items())\n",
    "#inv_obs_map = {v:k for k, v in obs_map.items()}\n",
    "\n",
    "obs_seq = [inv_obs_map[v] for v in list(obs)]\n",
    "\n",
    "print( pd.DataFrame(np.column_stack([obs, obs_seq]), \n",
    "                columns=['Obs_code', 'Obs_seq']) )\n"
   ]
  },
  {
   "cell_type": "code",
   "execution_count": 17,
   "id": "a65a7a99",
   "metadata": {},
   "outputs": [
    {
     "data": {
      "text/plain": [
       "2"
      ]
     },
     "execution_count": 17,
     "metadata": {},
     "output_type": "execute_result"
    }
   ],
   "source": [
    "np.shape(b)[0]"
   ]
  },
  {
   "cell_type": "code",
   "execution_count": 18,
   "id": "ffaf4f11",
   "metadata": {},
   "outputs": [
    {
     "data": {
      "text/plain": [
       "15"
      ]
     },
     "execution_count": 18,
     "metadata": {},
     "output_type": "execute_result"
    }
   ],
   "source": [
    "np.shape(obs)[0]"
   ]
  },
  {
   "cell_type": "code",
   "execution_count": 19,
   "id": "ac653de3",
   "metadata": {},
   "outputs": [
    {
     "name": "stdout",
     "output_type": "stream",
     "text": [
      "\n",
      "Start Walk Forward\n",
      "\n",
      "s=0 and t=1: phi[0, 1] = 0.0\n",
      "s=1 and t=1: phi[1, 1] = 0.0\n",
      "s=0 and t=2: phi[0, 2] = 0.0\n",
      "s=1 and t=2: phi[1, 2] = 0.0\n",
      "s=0 and t=3: phi[0, 3] = 0.0\n",
      "s=1 and t=3: phi[1, 3] = 1.0\n",
      "s=0 and t=4: phi[0, 4] = 0.0\n",
      "s=1 and t=4: phi[1, 4] = 0.0\n",
      "s=0 and t=5: phi[0, 5] = 0.0\n",
      "s=1 and t=5: phi[1, 5] = 1.0\n",
      "s=0 and t=6: phi[0, 6] = 0.0\n",
      "s=1 and t=6: phi[1, 6] = 0.0\n",
      "s=0 and t=7: phi[0, 7] = 0.0\n",
      "s=1 and t=7: phi[1, 7] = 1.0\n",
      "s=0 and t=8: phi[0, 8] = 0.0\n",
      "s=1 and t=8: phi[1, 8] = 0.0\n",
      "s=0 and t=9: phi[0, 9] = 0.0\n",
      "s=1 and t=9: phi[1, 9] = 1.0\n",
      "s=0 and t=10: phi[0, 10] = 1.0\n",
      "s=1 and t=10: phi[1, 10] = 1.0\n",
      "s=0 and t=11: phi[0, 11] = 1.0\n",
      "s=1 and t=11: phi[1, 11] = 1.0\n",
      "s=0 and t=12: phi[0, 12] = 1.0\n",
      "s=1 and t=12: phi[1, 12] = 1.0\n",
      "s=0 and t=13: phi[0, 13] = 0.0\n",
      "s=1 and t=13: phi[1, 13] = 0.0\n",
      "s=0 and t=14: phi[0, 14] = 0.0\n",
      "s=1 and t=14: phi[1, 14] = 1.0\n",
      "--------------------------------------------------\n",
      "Start Backtrace\n",
      "\n",
      "0.0 14\n",
      "path[13] = 0.0\n",
      "0.0 13\n",
      "path[12] = 0.0\n",
      "0.0 12\n",
      "path[11] = 1.0\n",
      "1.0 11\n",
      "path[10] = 1.0\n",
      "1.0 10\n",
      "path[9] = 1.0\n",
      "1.0 9\n",
      "path[8] = 1.0\n",
      "1.0 8\n",
      "path[7] = 0.0\n",
      "0.0 7\n",
      "path[6] = 0.0\n",
      "0.0 6\n",
      "path[5] = 0.0\n",
      "0.0 5\n",
      "path[4] = 0.0\n",
      "0.0 4\n",
      "path[3] = 0.0\n",
      "0.0 3\n",
      "path[2] = 0.0\n",
      "0.0 2\n",
      "path[1] = 0.0\n",
      "0.0 1\n",
      "path[0] = 0.0\n",
      "\n",
      "single best state path: \n",
      " [0. 0. 0. 0. 0. 0. 0. 0. 1. 1. 1. 1. 0. 0. 0.]\n",
      "delta:\n",
      " [[3.00000000e-01 1.26000000e-01 1.76400000e-02 7.40880000e-03\n",
      "  1.03723200e-03 4.35637440e-04 6.09892416e-05 2.56154815e-05\n",
      "  3.58616741e-06 5.02063437e-07 7.37725866e-08 2.21317760e-08\n",
      "  1.59348787e-08 2.23088302e-09 9.36970868e-10]\n",
      " [5.00000000e-02 9.00000000e-03 1.89000000e-02 1.13400000e-03\n",
      "  8.89056000e-04 5.33433600e-05 6.53456160e-05 3.92073696e-06\n",
      "  3.07385778e-06 9.22157333e-07 2.76647200e-07 6.63953280e-08\n",
      "  3.98371968e-09 1.91218545e-09 1.14731127e-10]]\n",
      "phi:\n",
      " [[0. 0. 0. 0. 0. 0. 0. 0. 0. 0. 1. 1. 1. 0. 0.]\n",
      " [0. 0. 0. 1. 0. 1. 0. 1. 0. 1. 1. 1. 1. 0. 1.]]\n"
     ]
    }
   ],
   "source": [
    "# define Viterbi algorithm for shortest path\n",
    "# code adapted from Stephen Marsland's, Machine Learning An Algorthmic Perspective, Vol. 2\n",
    "# https://github.com/alexsosn/MarslandMLAlgo/blob/master/Ch16/HMM.py\n",
    "\n",
    "def viterbi(pi, a, b, obs):\n",
    "    \n",
    "    nStates = np.shape(b)[0]\n",
    "    T = np.shape(obs)[0]\n",
    "    \n",
    "    # init blank path\n",
    "    path = np.zeros(T)\n",
    "    # delta --> highest probability of any path that reaches state i\n",
    "    delta = np.zeros((nStates, T))\n",
    "    # phi --> argmax by time step for each state\n",
    "    phi = np.zeros((nStates, T))\n",
    "    \n",
    "    # init delta and phi \n",
    "    delta[:, 0] = pi * b[:, obs[0]]\n",
    "    phi[:, 0] = 0\n",
    "\n",
    "    print('\\nStart Walk Forward\\n')    \n",
    "    # the forward algorithm extension\n",
    "    for t in range(1, T):\n",
    "        for s in range(nStates):\n",
    "            delta[s, t] = np.max(delta[:, t-1] * a[:, s]) * b[s, obs[t]] \n",
    "            phi[s, t] = np.argmax(delta[:, t-1] * a[:, s])\n",
    "            print('s={s} and t={t}: phi[{s}, {t}] = {phi}'.format(s=s, t=t, phi=phi[s, t]))\n",
    "    \n",
    "    # find optimal path\n",
    "    print('-'*50)\n",
    "    print('Start Backtrace\\n')\n",
    "    path[T-1] = np.argmax(delta[:, T-1])\n",
    "    #p('init path\\n    t={} path[{}-1]={}\\n'.format(T-1, T, path[T-1]))\n",
    "    for t in range(T-2, -1, -1):\n",
    "        print(path[t+1],t+1)\n",
    "        path[t] = phi[int(path[t+1]), t+1]\n",
    "        #p(' '*4 + 't={t}, path[{t}+1]={path}, [{t}+1]={i}'.format(t=t, path=path[t+1], i=[t+1]))\n",
    "        print('path[{}] = {}'.format(t, path[t]))\n",
    "        \n",
    "    return path, delta, phi\n",
    "\n",
    "path, delta, phi = viterbi(pi, a, b, obs)\n",
    "print('\\nsingle best state path: \\n', path)\n",
    "print('delta:\\n', delta)\n",
    "print('phi:\\n', phi)\n"
   ]
  },
  {
   "cell_type": "code",
   "execution_count": 29,
   "id": "8c6118f5",
   "metadata": {},
   "outputs": [
    {
     "data": {
      "text/html": [
       "<div>\n",
       "<style scoped>\n",
       "    .dataframe tbody tr th:only-of-type {\n",
       "        vertical-align: middle;\n",
       "    }\n",
       "\n",
       "    .dataframe tbody tr th {\n",
       "        vertical-align: top;\n",
       "    }\n",
       "\n",
       "    .dataframe thead th {\n",
       "        text-align: right;\n",
       "    }\n",
       "</style>\n",
       "<table border=\"1\" class=\"dataframe\">\n",
       "  <thead>\n",
       "    <tr style=\"text-align: right;\">\n",
       "      <th></th>\n",
       "      <th>Observation</th>\n",
       "      <th>Best_Path</th>\n",
       "    </tr>\n",
       "  </thead>\n",
       "  <tbody>\n",
       "    <tr>\n",
       "      <th>0</th>\n",
       "      <td>eating</td>\n",
       "      <td>healthy</td>\n",
       "    </tr>\n",
       "    <tr>\n",
       "      <th>1</th>\n",
       "      <td>eating</td>\n",
       "      <td>healthy</td>\n",
       "    </tr>\n",
       "    <tr>\n",
       "      <th>2</th>\n",
       "      <td>running</td>\n",
       "      <td>healthy</td>\n",
       "    </tr>\n",
       "    <tr>\n",
       "      <th>3</th>\n",
       "      <td>eating</td>\n",
       "      <td>healthy</td>\n",
       "    </tr>\n",
       "    <tr>\n",
       "      <th>4</th>\n",
       "      <td>sleeping</td>\n",
       "      <td>healthy</td>\n",
       "    </tr>\n",
       "    <tr>\n",
       "      <th>5</th>\n",
       "      <td>eating</td>\n",
       "      <td>healthy</td>\n",
       "    </tr>\n",
       "    <tr>\n",
       "      <th>6</th>\n",
       "      <td>running</td>\n",
       "      <td>healthy</td>\n",
       "    </tr>\n",
       "    <tr>\n",
       "      <th>7</th>\n",
       "      <td>eating</td>\n",
       "      <td>healthy</td>\n",
       "    </tr>\n",
       "    <tr>\n",
       "      <th>8</th>\n",
       "      <td>sleeping</td>\n",
       "      <td>sick</td>\n",
       "    </tr>\n",
       "    <tr>\n",
       "      <th>9</th>\n",
       "      <td>running</td>\n",
       "      <td>sick</td>\n",
       "    </tr>\n",
       "    <tr>\n",
       "      <th>10</th>\n",
       "      <td>running</td>\n",
       "      <td>sick</td>\n",
       "    </tr>\n",
       "    <tr>\n",
       "      <th>11</th>\n",
       "      <td>sleeping</td>\n",
       "      <td>sick</td>\n",
       "    </tr>\n",
       "    <tr>\n",
       "      <th>12</th>\n",
       "      <td>eating</td>\n",
       "      <td>healthy</td>\n",
       "    </tr>\n",
       "    <tr>\n",
       "      <th>13</th>\n",
       "      <td>sleeping</td>\n",
       "      <td>healthy</td>\n",
       "    </tr>\n",
       "    <tr>\n",
       "      <th>14</th>\n",
       "      <td>eating</td>\n",
       "      <td>healthy</td>\n",
       "    </tr>\n",
       "  </tbody>\n",
       "</table>\n",
       "</div>"
      ],
      "text/plain": [
       "   Observation Best_Path\n",
       "0       eating   healthy\n",
       "1       eating   healthy\n",
       "2      running   healthy\n",
       "3       eating   healthy\n",
       "4     sleeping   healthy\n",
       "5       eating   healthy\n",
       "6      running   healthy\n",
       "7       eating   healthy\n",
       "8     sleeping      sick\n",
       "9      running      sick\n",
       "10     running      sick\n",
       "11    sleeping      sick\n",
       "12      eating   healthy\n",
       "13    sleeping   healthy\n",
       "14      eating   healthy"
      ]
     },
     "execution_count": 29,
     "metadata": {},
     "output_type": "execute_result"
    }
   ],
   "source": [
    "state_map = {0:'healthy', 1:'sick'}\n",
    "state_path = [state_map[v] for v in path]\n",
    "\n",
    "(pd.DataFrame()\n",
    " .assign(Observation=obs_seq)\n",
    " .assign(Best_Path=state_path))"
   ]
  },
  {
   "cell_type": "code",
   "execution_count": null,
   "id": "d3194fca",
   "metadata": {},
   "outputs": [],
   "source": []
  }
 ],
 "metadata": {
  "kernelspec": {
   "display_name": "MLClass",
   "language": "python",
   "name": "mlclass"
  },
  "language_info": {
   "codemirror_mode": {
    "name": "ipython",
    "version": 3
   },
   "file_extension": ".py",
   "mimetype": "text/x-python",
   "name": "python",
   "nbconvert_exporter": "python",
   "pygments_lexer": "ipython3",
   "version": "3.8.16"
  }
 },
 "nbformat": 4,
 "nbformat_minor": 5
}
