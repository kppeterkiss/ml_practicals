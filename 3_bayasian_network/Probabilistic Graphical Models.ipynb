{
 "cells": [
  {
   "cell_type": "markdown",
   "id": "94fb1dfe",
   "metadata": {},
   "source": [
    "# Probabilistic Graphical Models"
   ]
  },
  {
   "cell_type": "code",
   "execution_count": 1,
   "id": "696d1d56",
   "metadata": {},
   "outputs": [],
   "source": [
    "# import subprocess\n",
    "# import sys\n",
    "\n",
    "# def install(packages):\n",
    "#     for package in packages:\n",
    "#         subprocess.check_call([sys.executable, \"-m\", \"pip\", \"install\", package])\n",
    "        \n",
    "# install([\"pgmpy\"])"
   ]
  },
  {
   "cell_type": "markdown",
   "id": "95aed792",
   "metadata": {},
   "source": [
    "pip install pgmpy\n",
    "\n",
    "conda install -c ankurankan pgmpy"
   ]
  },
  {
   "cell_type": "code",
   "execution_count": 2,
   "id": "b03ed5af",
   "metadata": {},
   "outputs": [
    {
     "name": "stdout",
     "output_type": "stream",
     "text": [
      "0.1.17\n"
     ]
    }
   ],
   "source": [
    "import pgmpy as pgm\n",
    "print(pgm.__version__)\n",
    "\n",
    "from pgmpy.models import BayesianModel\n",
    "from pgmpy.factors.discrete import TabularCPD"
   ]
  },
  {
   "cell_type": "markdown",
   "id": "29348d2d",
   "metadata": {},
   "source": [
    "* **Joint Probability Distribution**: Probabilities are distributed simultaneously. All variables related to one another occur in the same time, so you need to specify all variables behavior to get an answer.\n",
    "* **Conditional Probability Distribution**: Probabilities of A are distributed given a certain value for probaility B.\n",
    "* **Marginal Probability Distribution**: Average out the probability of A when A and B are related."
   ]
  },
  {
   "cell_type": "markdown",
   "id": "f93dc524",
   "metadata": {},
   "source": [
    "<img src=\"PGM1.png\">"
   ]
  },
  {
   "cell_type": "code",
   "execution_count": 3,
   "id": "365f654e",
   "metadata": {},
   "outputs": [
    {
     "name": "stderr",
     "output_type": "stream",
     "text": [
      "/Users/joseluis/opt/anaconda3/lib/python3.7/site-packages/pgmpy/models/BayesianModel.py:10: FutureWarning: BayesianModel has been renamed to BayesianNetwork. Please use BayesianNetwork class, BayesianModel will be removed in future.\n",
      "  FutureWarning,\n"
     ]
    }
   ],
   "source": [
    "model = BayesianModel([('Diff', 'Grade'), ('Intel', 'Grade'), ('Grade', 'Letter'), ('Intel', 'SAT')])\n",
    "\n",
    "#diff = 'Diff'\n",
    "\n",
    "cpd_d = TabularCPD(variable='Diff', variable_card=2, values=[[0.6], [0.4]])\n",
    "cpd_i = TabularCPD(variable='Intel', variable_card=2, values=[[0.7], [0.3]])"
   ]
  },
  {
   "cell_type": "code",
   "execution_count": 4,
   "id": "88990285",
   "metadata": {},
   "outputs": [],
   "source": [
    "cpd_g = TabularCPD(variable='Grade', variable_card=3,\n",
    "                   values=[[0.3, 0.05, 0.9, 0.5],\n",
    "                          [0.4, 0.25, 0.08, 0.3],\n",
    "                          [0.3, 0.7, 0.02, 0.2]],\n",
    "                  evidence = ['Intel', 'Diff'],\n",
    "                   evidence_card=[2, 2])\n",
    "\n",
    "cpd_l = TabularCPD(variable='Letter', variable_card=2,\n",
    "                   values=[[0.1, 0.4, 0.99],\n",
    "                          [0.9, 0.6, 0.01]],\n",
    "                  evidence = ['Grade'],\n",
    "                   evidence_card=[3])\n",
    "\n",
    "cpd_s = TabularCPD(variable='SAT', variable_card=2,\n",
    "                   values=[[0.95, 0.2],\n",
    "                          [0.05, 0.8]],\n",
    "                  evidence = ['Intel'],\n",
    "                   evidence_card=[2])"
   ]
  },
  {
   "cell_type": "code",
   "execution_count": 5,
   "id": "f1f6198e",
   "metadata": {},
   "outputs": [],
   "source": [
    "model.add_cpds(cpd_d, cpd_i, cpd_g, cpd_l, cpd_s)"
   ]
  },
  {
   "cell_type": "code",
   "execution_count": 6,
   "id": "0021b3fd",
   "metadata": {},
   "outputs": [
    {
     "data": {
      "text/plain": [
       "True"
      ]
     },
     "execution_count": 6,
     "metadata": {},
     "output_type": "execute_result"
    }
   ],
   "source": [
    "model.check_model()"
   ]
  },
  {
   "cell_type": "code",
   "execution_count": 7,
   "id": "130b6df4",
   "metadata": {},
   "outputs": [
    {
     "name": "stdout",
     "output_type": "stream",
     "text": [
      "+----------+----------+----------+----------+----------+\n",
      "| Intel    | Intel(0) | Intel(0) | Intel(1) | Intel(1) |\n",
      "+----------+----------+----------+----------+----------+\n",
      "| Diff     | Diff(0)  | Diff(1)  | Diff(0)  | Diff(1)  |\n",
      "+----------+----------+----------+----------+----------+\n",
      "| Grade(0) | 0.3      | 0.05     | 0.9      | 0.5      |\n",
      "+----------+----------+----------+----------+----------+\n",
      "| Grade(1) | 0.4      | 0.25     | 0.08     | 0.3      |\n",
      "+----------+----------+----------+----------+----------+\n",
      "| Grade(2) | 0.3      | 0.7      | 0.02     | 0.2      |\n",
      "+----------+----------+----------+----------+----------+\n"
     ]
    }
   ],
   "source": [
    "print(cpd_g)"
   ]
  },
  {
   "cell_type": "code",
   "execution_count": 8,
   "id": "0d644562",
   "metadata": {},
   "outputs": [
    {
     "name": "stdout",
     "output_type": "stream",
     "text": [
      "+----------+----------+----------+----------+----------+\n",
      "| Intel    | Intel(0) | Intel(0) | Intel(1) | Intel(1) |\n",
      "+----------+----------+----------+----------+----------+\n",
      "| Diff     | Diff(0)  | Diff(1)  | Diff(0)  | Diff(1)  |\n",
      "+----------+----------+----------+----------+----------+\n",
      "| Grade(0) | 0.3      | 0.05     | 0.9      | 0.5      |\n",
      "+----------+----------+----------+----------+----------+\n",
      "| Grade(1) | 0.4      | 0.25     | 0.08     | 0.3      |\n",
      "+----------+----------+----------+----------+----------+\n",
      "| Grade(2) | 0.3      | 0.7      | 0.02     | 0.2      |\n",
      "+----------+----------+----------+----------+----------+\n"
     ]
    }
   ],
   "source": [
    "print(model.get_cpds('Grade'))"
   ]
  },
  {
   "cell_type": "code",
   "execution_count": 9,
   "id": "b738a770",
   "metadata": {},
   "outputs": [
    {
     "data": {
      "text/plain": [
       "[<TabularCPD representing P(Diff:2) at 0x7f7a71bf3750>,\n",
       " <TabularCPD representing P(Intel:2) at 0x7f7a78cb88d0>,\n",
       " <TabularCPD representing P(Grade:3 | Intel:2, Diff:2) at 0x7f7a78cfa090>,\n",
       " <TabularCPD representing P(Letter:2 | Grade:3) at 0x7f7a78cfa050>,\n",
       " <TabularCPD representing P(SAT:2 | Intel:2) at 0x7f7a78cb8a90>]"
      ]
     },
     "execution_count": 9,
     "metadata": {},
     "output_type": "execute_result"
    }
   ],
   "source": [
    "model.get_cpds()"
   ]
  },
  {
   "cell_type": "code",
   "execution_count": 10,
   "id": "0f584209",
   "metadata": {},
   "outputs": [],
   "source": [
    "cpd_d_sn = TabularCPD(variable='Diff', variable_card=2, values=[[0.6], [0.4]], \n",
    "                      state_names={'Diff': ['Easy', 'Hard']})\n",
    "cpd_i_sn = TabularCPD(variable='Intel', variable_card=2, values=[[0.7], [0.3]], \n",
    "                      state_names={'Intel': ['Dumb', 'Intelligent']})\n",
    "cpd_g_sn = TabularCPD(variable='Grade', variable_card=3, \n",
    "                      values=[[0.3, 0.05, 0.9,  0.5],\n",
    "                              [0.4, 0.25, 0.08, 0.3],\n",
    "                              [0.3, 0.7,  0.02, 0.2]],\n",
    "                      evidence=['Intel', 'Diff'],\n",
    "                      evidence_card=[2, 2],\n",
    "                      state_names={'Grade': ['A', 'B', 'C'],\n",
    "                                   'Intel': ['Dumb', 'Intelligent'],\n",
    "                                   'Diff': ['Easy', 'Hard']})\n",
    "\n",
    "cpd_l_sn = TabularCPD(variable='Letter', variable_card=2, \n",
    "                      values=[[0.1, 0.4, 0.99],\n",
    "                              [0.9, 0.6, 0.01]],\n",
    "                      evidence=['Grade'],\n",
    "                      evidence_card=[3],\n",
    "                      state_names={'Letter': ['Bad', 'Good'],\n",
    "                                   'Grade': ['A', 'B', 'C']})\n",
    "\n",
    "cpd_s_sn = TabularCPD(variable='SAT', variable_card=2,\n",
    "                      values=[[0.95, 0.2],\n",
    "                              [0.05, 0.8]],\n",
    "                      evidence=['Intel'],\n",
    "                      evidence_card=[2],\n",
    "                      state_names={'SAT': ['Bad', 'Good'],\n",
    "                                   'Intel': ['Dumb', 'Intelligent']})"
   ]
  },
  {
   "cell_type": "code",
   "execution_count": 11,
   "id": "acb64b6e",
   "metadata": {},
   "outputs": [
    {
     "data": {
      "text/plain": [
       "True"
      ]
     },
     "execution_count": 11,
     "metadata": {},
     "output_type": "execute_result"
    }
   ],
   "source": [
    "model.add_cpds(cpd_d_sn, cpd_i_sn, cpd_g_sn, cpd_l_sn, cpd_s_sn)\n",
    "model.check_model()"
   ]
  },
  {
   "cell_type": "code",
   "execution_count": 12,
   "id": "5637659e",
   "metadata": {},
   "outputs": [
    {
     "name": "stdout",
     "output_type": "stream",
     "text": [
      "+----------+-------------+-----+--------------------+\n",
      "| Intel    | Intel(Dumb) | ... | Intel(Intelligent) |\n",
      "+----------+-------------+-----+--------------------+\n",
      "| Diff     | Diff(Easy)  | ... | Diff(Hard)         |\n",
      "+----------+-------------+-----+--------------------+\n",
      "| Grade(A) | 0.3         | ... | 0.5                |\n",
      "+----------+-------------+-----+--------------------+\n",
      "| Grade(B) | 0.4         | ... | 0.3                |\n",
      "+----------+-------------+-----+--------------------+\n",
      "| Grade(C) | 0.3         | ... | 0.2                |\n",
      "+----------+-------------+-----+--------------------+\n"
     ]
    }
   ],
   "source": [
    "print(model.get_cpds('Grade'))"
   ]
  },
  {
   "cell_type": "code",
   "execution_count": 13,
   "id": "f61d0e7a",
   "metadata": {},
   "outputs": [
    {
     "data": {
      "text/plain": [
       "(Grade ⟂ SAT | Intel, Diff)"
      ]
     },
     "execution_count": 13,
     "metadata": {},
     "output_type": "execute_result"
    }
   ],
   "source": [
    "# Getting the local independencies of a variable.\n",
    "model.local_independencies('Grade')"
   ]
  },
  {
   "cell_type": "code",
   "execution_count": 14,
   "id": "380f7356",
   "metadata": {},
   "outputs": [
    {
     "data": {
      "text/plain": [
       "(Diff ⟂ SAT, Intel)\n",
       "(Intel ⟂ Diff)\n",
       "(SAT ⟂ Grade, Diff, Letter | Intel)\n",
       "(Grade ⟂ SAT | Intel, Diff)\n",
       "(Letter ⟂ SAT, Intel, Diff | Grade)"
      ]
     },
     "execution_count": 14,
     "metadata": {},
     "output_type": "execute_result"
    }
   ],
   "source": [
    "# Getting all the local independencies in the network.\n",
    "model.local_independencies(['Diff', 'Intel', 'SAT', 'Grade', 'Letter'])"
   ]
  },
  {
   "cell_type": "code",
   "execution_count": 15,
   "id": "fd940875",
   "metadata": {},
   "outputs": [
    {
     "data": {
      "text/plain": [
       "{'Diff': {'Diff', 'Grade', 'Letter'}}"
      ]
     },
     "execution_count": 15,
     "metadata": {},
     "output_type": "execute_result"
    }
   ],
   "source": [
    "model.active_trail_nodes('Diff')"
   ]
  },
  {
   "cell_type": "code",
   "execution_count": 16,
   "id": "9e5b8442",
   "metadata": {},
   "outputs": [
    {
     "data": {
      "text/plain": [
       "{'Diff': {'Diff', 'Intel', 'SAT'}}"
      ]
     },
     "execution_count": 16,
     "metadata": {},
     "output_type": "execute_result"
    }
   ],
   "source": [
    "model.active_trail_nodes('Diff', observed='Grade')"
   ]
  },
  {
   "cell_type": "code",
   "execution_count": 17,
   "id": "bc4c6c29",
   "metadata": {},
   "outputs": [
    {
     "data": {
      "text/plain": [
       "['Diff', 'Intel']"
      ]
     },
     "execution_count": 17,
     "metadata": {},
     "output_type": "execute_result"
    }
   ],
   "source": [
    "model.get_parents('Grade')"
   ]
  },
  {
   "cell_type": "markdown",
   "id": "2c7c903d",
   "metadata": {},
   "source": [
    "## Case 1 - Head to Tail"
   ]
  },
  {
   "cell_type": "markdown",
   "id": "ac68fb9c",
   "metadata": {},
   "source": [
    "What is the probability of someone getting a Grade A if we know nothing about it?"
   ]
  },
  {
   "cell_type": "code",
   "execution_count": 18,
   "id": "22a75199",
   "metadata": {},
   "outputs": [
    {
     "data": {
      "application/vnd.jupyter.widget-view+json": {
       "model_id": "f3549456495e42eca4ce5fc8c7929755",
       "version_major": 2,
       "version_minor": 0
      },
      "text/plain": [
       "  0%|          | 0/2 [00:00<?, ?it/s]"
      ]
     },
     "metadata": {},
     "output_type": "display_data"
    },
    {
     "data": {
      "application/vnd.jupyter.widget-view+json": {
       "model_id": "6bcd017bb9eb43c384ee519941a0fa5c",
       "version_major": 2,
       "version_minor": 0
      },
      "text/plain": [
       "  0%|          | 0/2 [00:00<?, ?it/s]"
      ]
     },
     "metadata": {},
     "output_type": "display_data"
    },
    {
     "name": "stdout",
     "output_type": "stream",
     "text": [
      "+----------+--------------+\n",
      "| Grade    |   phi(Grade) |\n",
      "+==========+==============+\n",
      "| Grade(A) |       0.3620 |\n",
      "+----------+--------------+\n",
      "| Grade(B) |       0.2884 |\n",
      "+----------+--------------+\n",
      "| Grade(C) |       0.3496 |\n",
      "+----------+--------------+\n"
     ]
    }
   ],
   "source": [
    "from pgmpy.inference import VariableElimination\n",
    "\n",
    "infer = VariableElimination(model)\n",
    "infG = infer.query(['Grade'])\n",
    "print(infG)"
   ]
  },
  {
   "cell_type": "markdown",
   "id": "fa4cfc63",
   "metadata": {},
   "source": [
    "What is the probability of someone getting a Grade A in a particular case?"
   ]
  },
  {
   "cell_type": "code",
   "execution_count": 19,
   "id": "493d81fa",
   "metadata": {},
   "outputs": [
    {
     "data": {
      "application/vnd.jupyter.widget-view+json": {
       "model_id": "1c39cb6a851143c89caf47b91c4299d0",
       "version_major": 2,
       "version_minor": 0
      },
      "text/plain": [
       "0it [00:00, ?it/s]"
      ]
     },
     "metadata": {},
     "output_type": "display_data"
    },
    {
     "data": {
      "application/vnd.jupyter.widget-view+json": {
       "model_id": "96c86ee15e1a41999a3c3fdf14216658",
       "version_major": 2,
       "version_minor": 0
      },
      "text/plain": [
       "0it [00:00, ?it/s]"
      ]
     },
     "metadata": {},
     "output_type": "display_data"
    },
    {
     "name": "stdout",
     "output_type": "stream",
     "text": [
      "+----------+--------------+\n",
      "| Grade    |   phi(Grade) |\n",
      "+==========+==============+\n",
      "| Grade(A) |       0.9000 |\n",
      "+----------+--------------+\n",
      "| Grade(B) |       0.0800 |\n",
      "+----------+--------------+\n",
      "| Grade(C) |       0.0200 |\n",
      "+----------+--------------+\n"
     ]
    }
   ],
   "source": [
    "print(infer.query(['Grade'], evidence={'Diff': 'Easy', 'Intel': 'Intelligent'}))"
   ]
  },
  {
   "cell_type": "markdown",
   "id": "68dd9e58",
   "metadata": {},
   "source": [
    "### Highest probability"
   ]
  },
  {
   "cell_type": "code",
   "execution_count": 20,
   "id": "af9fdc2f",
   "metadata": {},
   "outputs": [
    {
     "data": {
      "application/vnd.jupyter.widget-view+json": {
       "model_id": "cbb009319f5643ebbea074388911b893",
       "version_major": 2,
       "version_minor": 0
      },
      "text/plain": [
       "  0%|          | 0/2 [00:00<?, ?it/s]"
      ]
     },
     "metadata": {},
     "output_type": "display_data"
    },
    {
     "data": {
      "application/vnd.jupyter.widget-view+json": {
       "model_id": "0fa1bf920a04479286f6501d3123e39a",
       "version_major": 2,
       "version_minor": 0
      },
      "text/plain": [
       "  0%|          | 0/2 [00:00<?, ?it/s]"
      ]
     },
     "metadata": {},
     "output_type": "display_data"
    },
    {
     "data": {
      "text/plain": [
       "{'Grade': 'A'}"
      ]
     },
     "execution_count": 20,
     "metadata": {},
     "output_type": "execute_result"
    }
   ],
   "source": [
    "infer.map_query(['Grade'])"
   ]
  },
  {
   "cell_type": "code",
   "execution_count": 21,
   "id": "6fed6028",
   "metadata": {},
   "outputs": [
    {
     "data": {
      "application/vnd.jupyter.widget-view+json": {
       "model_id": "93acdbba49eb4fcd8e32f7161d80d147",
       "version_major": 2,
       "version_minor": 0
      },
      "text/plain": [
       "0it [00:00, ?it/s]"
      ]
     },
     "metadata": {},
     "output_type": "display_data"
    },
    {
     "data": {
      "application/vnd.jupyter.widget-view+json": {
       "model_id": "e6f57655fed9423992ffb187b4251a03",
       "version_major": 2,
       "version_minor": 0
      },
      "text/plain": [
       "0it [00:00, ?it/s]"
      ]
     },
     "metadata": {},
     "output_type": "display_data"
    },
    {
     "data": {
      "text/plain": [
       "{'Grade': 'A'}"
      ]
     },
     "execution_count": 21,
     "metadata": {},
     "output_type": "execute_result"
    }
   ],
   "source": [
    "#Highest probability of a particular case\n",
    "infer.map_query(['Grade'], evidence={'Diff': 'Easy', 'Intel': 'Intelligent'})"
   ]
  },
  {
   "cell_type": "markdown",
   "id": "32217612",
   "metadata": {},
   "source": [
    "What is the highest probability of a Letter given one evidence?"
   ]
  },
  {
   "cell_type": "code",
   "execution_count": 22,
   "id": "ef5a680a",
   "metadata": {},
   "outputs": [
    {
     "data": {
      "application/vnd.jupyter.widget-view+json": {
       "model_id": "3d301e0dda624b4c9104c61aaf612296",
       "version_major": 2,
       "version_minor": 0
      },
      "text/plain": [
       "  0%|          | 0/2 [00:00<?, ?it/s]"
      ]
     },
     "metadata": {},
     "output_type": "display_data"
    },
    {
     "data": {
      "application/vnd.jupyter.widget-view+json": {
       "model_id": "6616ad532e2b4723b555c1c77fc20d32",
       "version_major": 2,
       "version_minor": 0
      },
      "text/plain": [
       "  0%|          | 0/2 [00:00<?, ?it/s]"
      ]
     },
     "metadata": {},
     "output_type": "display_data"
    },
    {
     "data": {
      "text/plain": [
       "{'Letter': 'Bad'}"
      ]
     },
     "execution_count": 22,
     "metadata": {},
     "output_type": "execute_result"
    }
   ],
   "source": [
    "infer.map_query(['Letter'], evidence={'Diff': 'Hard'})"
   ]
  },
  {
   "cell_type": "markdown",
   "id": "0a91ee3b",
   "metadata": {},
   "source": [
    "## Case 2 - Tail to Tail"
   ]
  },
  {
   "cell_type": "code",
   "execution_count": 23,
   "id": "5ff72441",
   "metadata": {},
   "outputs": [
    {
     "data": {
      "application/vnd.jupyter.widget-view+json": {
       "model_id": "42904e465bed46d78121704ae75a48a0",
       "version_major": 2,
       "version_minor": 0
      },
      "text/plain": [
       "  0%|          | 0/1 [00:00<?, ?it/s]"
      ]
     },
     "metadata": {},
     "output_type": "display_data"
    },
    {
     "data": {
      "application/vnd.jupyter.widget-view+json": {
       "model_id": "6a99747b0c4f43bd932db95e1d2a410d",
       "version_major": 2,
       "version_minor": 0
      },
      "text/plain": [
       "  0%|          | 0/1 [00:00<?, ?it/s]"
      ]
     },
     "metadata": {},
     "output_type": "display_data"
    },
    {
     "name": "stdout",
     "output_type": "stream",
     "text": [
      "+----------+--------------+\n",
      "| Grade    |   phi(Grade) |\n",
      "+==========+==============+\n",
      "| Grade(A) |       0.2000 |\n",
      "+----------+--------------+\n",
      "| Grade(B) |       0.3400 |\n",
      "+----------+--------------+\n",
      "| Grade(C) |       0.4600 |\n",
      "+----------+--------------+\n"
     ]
    }
   ],
   "source": [
    "print(infer.query(['Grade'], evidence={'Intel': 'Dumb'}))"
   ]
  },
  {
   "cell_type": "markdown",
   "id": "535cad62",
   "metadata": {},
   "source": [
    "What is the probability of someone getting a Grade A knowing the SAT score?"
   ]
  },
  {
   "cell_type": "code",
   "execution_count": 24,
   "id": "24e9ccd5",
   "metadata": {},
   "outputs": [
    {
     "data": {
      "application/vnd.jupyter.widget-view+json": {
       "model_id": "9f1141dec40243c49bf4601f41987b90",
       "version_major": 2,
       "version_minor": 0
      },
      "text/plain": [
       "  0%|          | 0/2 [00:00<?, ?it/s]"
      ]
     },
     "metadata": {},
     "output_type": "display_data"
    },
    {
     "data": {
      "application/vnd.jupyter.widget-view+json": {
       "model_id": "df16b9d3ce6243968007a1a09b075a42",
       "version_major": 2,
       "version_minor": 0
      },
      "text/plain": [
       "  0%|          | 0/2 [00:00<?, ?it/s]"
      ]
     },
     "metadata": {},
     "output_type": "display_data"
    },
    {
     "name": "stdout",
     "output_type": "stream",
     "text": [
      "+----------+--------------+\n",
      "| Grade    |   phi(Grade) |\n",
      "+==========+==============+\n",
      "| Grade(A) |       0.2447 |\n",
      "+----------+--------------+\n",
      "| Grade(B) |       0.3258 |\n",
      "+----------+--------------+\n",
      "| Grade(C) |       0.4295 |\n",
      "+----------+--------------+\n"
     ]
    }
   ],
   "source": [
    "print(infer.query(['Grade'], evidence={'SAT': 'Bad'}))"
   ]
  },
  {
   "cell_type": "markdown",
   "id": "7c989335",
   "metadata": {},
   "source": [
    "## Case 3 - Head to Head"
   ]
  },
  {
   "cell_type": "code",
   "execution_count": 25,
   "id": "2e94a130",
   "metadata": {},
   "outputs": [
    {
     "data": {
      "application/vnd.jupyter.widget-view+json": {
       "model_id": "9d01114591aa4f4284f0140e749a5d8b",
       "version_major": 2,
       "version_minor": 0
      },
      "text/plain": [
       "0it [00:00, ?it/s]"
      ]
     },
     "metadata": {},
     "output_type": "display_data"
    },
    {
     "data": {
      "application/vnd.jupyter.widget-view+json": {
       "model_id": "7097f1e35557496da2dbc07d1e952b77",
       "version_major": 2,
       "version_minor": 0
      },
      "text/plain": [
       "0it [00:00, ?it/s]"
      ]
     },
     "metadata": {},
     "output_type": "display_data"
    },
    {
     "name": "stdout",
     "output_type": "stream",
     "text": [
      "+------------+-------------+\n",
      "| Diff       |   phi(Diff) |\n",
      "+============+=============+\n",
      "| Diff(Easy) |      0.6000 |\n",
      "+------------+-------------+\n",
      "| Diff(Hard) |      0.4000 |\n",
      "+------------+-------------+\n"
     ]
    }
   ],
   "source": [
    "print(infer.query(['Diff']))"
   ]
  },
  {
   "cell_type": "code",
   "execution_count": 26,
   "id": "e0eed7f7",
   "metadata": {},
   "outputs": [
    {
     "data": {
      "application/vnd.jupyter.widget-view+json": {
       "model_id": "e0b210d5f35e46dbba4b60e10b101bf3",
       "version_major": 2,
       "version_minor": 0
      },
      "text/plain": [
       "0it [00:00, ?it/s]"
      ]
     },
     "metadata": {},
     "output_type": "display_data"
    },
    {
     "data": {
      "application/vnd.jupyter.widget-view+json": {
       "model_id": "cb7071a28e7e4910a0e6adac7832bd50",
       "version_major": 2,
       "version_minor": 0
      },
      "text/plain": [
       "0it [00:00, ?it/s]"
      ]
     },
     "metadata": {},
     "output_type": "display_data"
    },
    {
     "name": "stdout",
     "output_type": "stream",
     "text": [
      "+------------+-------------+\n",
      "| Diff       |   phi(Diff) |\n",
      "+============+=============+\n",
      "| Diff(Easy) |      0.6000 |\n",
      "+------------+-------------+\n",
      "| Diff(Hard) |      0.4000 |\n",
      "+------------+-------------+\n"
     ]
    }
   ],
   "source": [
    "print(infer.query(['Diff'], evidence={'Intel': 'Intelligent'}))"
   ]
  },
  {
   "cell_type": "code",
   "execution_count": 27,
   "id": "3875bd00",
   "metadata": {},
   "outputs": [
    {
     "data": {
      "application/vnd.jupyter.widget-view+json": {
       "model_id": "40b5506cbd0e47c7a896e70816ec558d",
       "version_major": 2,
       "version_minor": 0
      },
      "text/plain": [
       "  0%|          | 0/1 [00:00<?, ?it/s]"
      ]
     },
     "metadata": {},
     "output_type": "display_data"
    },
    {
     "data": {
      "application/vnd.jupyter.widget-view+json": {
       "model_id": "d040f11965df4ea18d9065e38ca2f366",
       "version_major": 2,
       "version_minor": 0
      },
      "text/plain": [
       "  0%|          | 0/1 [00:00<?, ?it/s]"
      ]
     },
     "metadata": {},
     "output_type": "display_data"
    },
    {
     "data": {
      "application/vnd.jupyter.widget-view+json": {
       "model_id": "3c1973a31a84430399e48d63b919e075",
       "version_major": 2,
       "version_minor": 0
      },
      "text/plain": [
       "0it [00:00, ?it/s]"
      ]
     },
     "metadata": {},
     "output_type": "display_data"
    },
    {
     "data": {
      "application/vnd.jupyter.widget-view+json": {
       "model_id": "faa06df389cc45a98af567af4b03a48b",
       "version_major": 2,
       "version_minor": 0
      },
      "text/plain": [
       "0it [00:00, ?it/s]"
      ]
     },
     "metadata": {},
     "output_type": "display_data"
    },
    {
     "name": "stdout",
     "output_type": "stream",
     "text": [
      "+------------+-------------+\n",
      "| Diff       |   phi(Diff) |\n",
      "+============+=============+\n",
      "| Diff(Easy) |      0.7297 |\n",
      "+------------+-------------+\n",
      "| Diff(Hard) |      0.2703 |\n",
      "+------------+-------------+\n"
     ]
    }
   ],
   "source": [
    "grade = infer.map_query(['Grade'], evidence={'Intel': 'Intelligent'})\n",
    "\n",
    "print(infer.query(['Diff'], evidence={'Grade':grade['Grade'], 'Intel': 'Intelligent'}))"
   ]
  },
  {
   "cell_type": "code",
   "execution_count": 28,
   "id": "fa2423af",
   "metadata": {},
   "outputs": [
    {
     "data": {
      "application/vnd.jupyter.widget-view+json": {
       "model_id": "fb5b4ec30dd3456d8779c848fdb3df6e",
       "version_major": 2,
       "version_minor": 0
      },
      "text/plain": [
       "0it [00:00, ?it/s]"
      ]
     },
     "metadata": {},
     "output_type": "display_data"
    },
    {
     "name": "stdout",
     "output_type": "stream",
     "text": [
      "+--------------------+------------+----------+-----------+--------------+------------------------------------+\n",
      "| Intel              | Diff       | Grade    | SAT       | Letter       |   phi(Intel,Diff,Grade,SAT,Letter) |\n",
      "+====================+============+==========+===========+==============+====================================+\n",
      "| Intel(Dumb)        | Diff(Easy) | Grade(A) | SAT(Bad)  | Letter(Bad)  |                             0.0120 |\n",
      "+--------------------+------------+----------+-----------+--------------+------------------------------------+\n",
      "| Intel(Dumb)        | Diff(Easy) | Grade(A) | SAT(Bad)  | Letter(Good) |                             0.1077 |\n",
      "+--------------------+------------+----------+-----------+--------------+------------------------------------+\n",
      "| Intel(Dumb)        | Diff(Easy) | Grade(A) | SAT(Good) | Letter(Bad)  |                             0.0006 |\n",
      "+--------------------+------------+----------+-----------+--------------+------------------------------------+\n",
      "| Intel(Dumb)        | Diff(Easy) | Grade(A) | SAT(Good) | Letter(Good) |                             0.0057 |\n",
      "+--------------------+------------+----------+-----------+--------------+------------------------------------+\n",
      "| Intel(Dumb)        | Diff(Easy) | Grade(B) | SAT(Bad)  | Letter(Bad)  |                             0.0638 |\n",
      "+--------------------+------------+----------+-----------+--------------+------------------------------------+\n",
      "| Intel(Dumb)        | Diff(Easy) | Grade(B) | SAT(Bad)  | Letter(Good) |                             0.0958 |\n",
      "+--------------------+------------+----------+-----------+--------------+------------------------------------+\n",
      "| Intel(Dumb)        | Diff(Easy) | Grade(B) | SAT(Good) | Letter(Bad)  |                             0.0034 |\n",
      "+--------------------+------------+----------+-----------+--------------+------------------------------------+\n",
      "| Intel(Dumb)        | Diff(Easy) | Grade(B) | SAT(Good) | Letter(Good) |                             0.0050 |\n",
      "+--------------------+------------+----------+-----------+--------------+------------------------------------+\n",
      "| Intel(Dumb)        | Diff(Easy) | Grade(C) | SAT(Bad)  | Letter(Bad)  |                             0.1185 |\n",
      "+--------------------+------------+----------+-----------+--------------+------------------------------------+\n",
      "| Intel(Dumb)        | Diff(Easy) | Grade(C) | SAT(Bad)  | Letter(Good) |                             0.0012 |\n",
      "+--------------------+------------+----------+-----------+--------------+------------------------------------+\n",
      "| Intel(Dumb)        | Diff(Easy) | Grade(C) | SAT(Good) | Letter(Bad)  |                             0.0062 |\n",
      "+--------------------+------------+----------+-----------+--------------+------------------------------------+\n",
      "| Intel(Dumb)        | Diff(Easy) | Grade(C) | SAT(Good) | Letter(Good) |                             0.0001 |\n",
      "+--------------------+------------+----------+-----------+--------------+------------------------------------+\n",
      "| Intel(Dumb)        | Diff(Hard) | Grade(A) | SAT(Bad)  | Letter(Bad)  |                             0.0013 |\n",
      "+--------------------+------------+----------+-----------+--------------+------------------------------------+\n",
      "| Intel(Dumb)        | Diff(Hard) | Grade(A) | SAT(Bad)  | Letter(Good) |                             0.0120 |\n",
      "+--------------------+------------+----------+-----------+--------------+------------------------------------+\n",
      "| Intel(Dumb)        | Diff(Hard) | Grade(A) | SAT(Good) | Letter(Bad)  |                             0.0001 |\n",
      "+--------------------+------------+----------+-----------+--------------+------------------------------------+\n",
      "| Intel(Dumb)        | Diff(Hard) | Grade(A) | SAT(Good) | Letter(Good) |                             0.0006 |\n",
      "+--------------------+------------+----------+-----------+--------------+------------------------------------+\n",
      "| Intel(Dumb)        | Diff(Hard) | Grade(B) | SAT(Bad)  | Letter(Bad)  |                             0.0266 |\n",
      "+--------------------+------------+----------+-----------+--------------+------------------------------------+\n",
      "| Intel(Dumb)        | Diff(Hard) | Grade(B) | SAT(Bad)  | Letter(Good) |                             0.0399 |\n",
      "+--------------------+------------+----------+-----------+--------------+------------------------------------+\n",
      "| Intel(Dumb)        | Diff(Hard) | Grade(B) | SAT(Good) | Letter(Bad)  |                             0.0014 |\n",
      "+--------------------+------------+----------+-----------+--------------+------------------------------------+\n",
      "| Intel(Dumb)        | Diff(Hard) | Grade(B) | SAT(Good) | Letter(Good) |                             0.0021 |\n",
      "+--------------------+------------+----------+-----------+--------------+------------------------------------+\n",
      "| Intel(Dumb)        | Diff(Hard) | Grade(C) | SAT(Bad)  | Letter(Bad)  |                             0.1843 |\n",
      "+--------------------+------------+----------+-----------+--------------+------------------------------------+\n",
      "| Intel(Dumb)        | Diff(Hard) | Grade(C) | SAT(Bad)  | Letter(Good) |                             0.0019 |\n",
      "+--------------------+------------+----------+-----------+--------------+------------------------------------+\n",
      "| Intel(Dumb)        | Diff(Hard) | Grade(C) | SAT(Good) | Letter(Bad)  |                             0.0097 |\n",
      "+--------------------+------------+----------+-----------+--------------+------------------------------------+\n",
      "| Intel(Dumb)        | Diff(Hard) | Grade(C) | SAT(Good) | Letter(Good) |                             0.0001 |\n",
      "+--------------------+------------+----------+-----------+--------------+------------------------------------+\n",
      "| Intel(Intelligent) | Diff(Easy) | Grade(A) | SAT(Bad)  | Letter(Bad)  |                             0.0032 |\n",
      "+--------------------+------------+----------+-----------+--------------+------------------------------------+\n",
      "| Intel(Intelligent) | Diff(Easy) | Grade(A) | SAT(Bad)  | Letter(Good) |                             0.0292 |\n",
      "+--------------------+------------+----------+-----------+--------------+------------------------------------+\n",
      "| Intel(Intelligent) | Diff(Easy) | Grade(A) | SAT(Good) | Letter(Bad)  |                             0.0130 |\n",
      "+--------------------+------------+----------+-----------+--------------+------------------------------------+\n",
      "| Intel(Intelligent) | Diff(Easy) | Grade(A) | SAT(Good) | Letter(Good) |                             0.1166 |\n",
      "+--------------------+------------+----------+-----------+--------------+------------------------------------+\n",
      "| Intel(Intelligent) | Diff(Easy) | Grade(B) | SAT(Bad)  | Letter(Bad)  |                             0.0012 |\n",
      "+--------------------+------------+----------+-----------+--------------+------------------------------------+\n",
      "| Intel(Intelligent) | Diff(Easy) | Grade(B) | SAT(Bad)  | Letter(Good) |                             0.0017 |\n",
      "+--------------------+------------+----------+-----------+--------------+------------------------------------+\n",
      "| Intel(Intelligent) | Diff(Easy) | Grade(B) | SAT(Good) | Letter(Bad)  |                             0.0046 |\n",
      "+--------------------+------------+----------+-----------+--------------+------------------------------------+\n",
      "| Intel(Intelligent) | Diff(Easy) | Grade(B) | SAT(Good) | Letter(Good) |                             0.0069 |\n",
      "+--------------------+------------+----------+-----------+--------------+------------------------------------+\n",
      "| Intel(Intelligent) | Diff(Easy) | Grade(C) | SAT(Bad)  | Letter(Bad)  |                             0.0007 |\n",
      "+--------------------+------------+----------+-----------+--------------+------------------------------------+\n",
      "| Intel(Intelligent) | Diff(Easy) | Grade(C) | SAT(Bad)  | Letter(Good) |                             0.0000 |\n",
      "+--------------------+------------+----------+-----------+--------------+------------------------------------+\n",
      "| Intel(Intelligent) | Diff(Easy) | Grade(C) | SAT(Good) | Letter(Bad)  |                             0.0029 |\n",
      "+--------------------+------------+----------+-----------+--------------+------------------------------------+\n",
      "| Intel(Intelligent) | Diff(Easy) | Grade(C) | SAT(Good) | Letter(Good) |                             0.0000 |\n",
      "+--------------------+------------+----------+-----------+--------------+------------------------------------+\n",
      "| Intel(Intelligent) | Diff(Hard) | Grade(A) | SAT(Bad)  | Letter(Bad)  |                             0.0012 |\n",
      "+--------------------+------------+----------+-----------+--------------+------------------------------------+\n",
      "| Intel(Intelligent) | Diff(Hard) | Grade(A) | SAT(Bad)  | Letter(Good) |                             0.0108 |\n",
      "+--------------------+------------+----------+-----------+--------------+------------------------------------+\n",
      "| Intel(Intelligent) | Diff(Hard) | Grade(A) | SAT(Good) | Letter(Bad)  |                             0.0048 |\n",
      "+--------------------+------------+----------+-----------+--------------+------------------------------------+\n",
      "| Intel(Intelligent) | Diff(Hard) | Grade(A) | SAT(Good) | Letter(Good) |                             0.0432 |\n",
      "+--------------------+------------+----------+-----------+--------------+------------------------------------+\n",
      "| Intel(Intelligent) | Diff(Hard) | Grade(B) | SAT(Bad)  | Letter(Bad)  |                             0.0029 |\n",
      "+--------------------+------------+----------+-----------+--------------+------------------------------------+\n",
      "| Intel(Intelligent) | Diff(Hard) | Grade(B) | SAT(Bad)  | Letter(Good) |                             0.0043 |\n",
      "+--------------------+------------+----------+-----------+--------------+------------------------------------+\n",
      "| Intel(Intelligent) | Diff(Hard) | Grade(B) | SAT(Good) | Letter(Bad)  |                             0.0115 |\n",
      "+--------------------+------------+----------+-----------+--------------+------------------------------------+\n",
      "| Intel(Intelligent) | Diff(Hard) | Grade(B) | SAT(Good) | Letter(Good) |                             0.0173 |\n",
      "+--------------------+------------+----------+-----------+--------------+------------------------------------+\n",
      "| Intel(Intelligent) | Diff(Hard) | Grade(C) | SAT(Bad)  | Letter(Bad)  |                             0.0048 |\n",
      "+--------------------+------------+----------+-----------+--------------+------------------------------------+\n",
      "| Intel(Intelligent) | Diff(Hard) | Grade(C) | SAT(Bad)  | Letter(Good) |                             0.0000 |\n",
      "+--------------------+------------+----------+-----------+--------------+------------------------------------+\n",
      "| Intel(Intelligent) | Diff(Hard) | Grade(C) | SAT(Good) | Letter(Bad)  |                             0.0190 |\n",
      "+--------------------+------------+----------+-----------+--------------+------------------------------------+\n",
      "| Intel(Intelligent) | Diff(Hard) | Grade(C) | SAT(Good) | Letter(Good) |                             0.0002 |\n",
      "+--------------------+------------+----------+-----------+--------------+------------------------------------+\n"
     ]
    }
   ],
   "source": [
    "from pgmpy.inference import BeliefPropagation\n",
    "\n",
    "bp = BeliefPropagation(model)\n",
    "bp.calibrate()\n",
    "print(bp.query(variables=['Diff', 'Intel', 'SAT', 'Grade', 'Letter']))"
   ]
  },
  {
   "cell_type": "markdown",
   "id": "fb206c83",
   "metadata": {},
   "source": [
    "### Classification"
   ]
  },
  {
   "cell_type": "code",
   "execution_count": 29,
   "id": "26f9f5e9",
   "metadata": {},
   "outputs": [
    {
     "name": "stdout",
     "output_type": "stream",
     "text": [
      "     Diff  Intel  Grade  Letter  SAT\n",
      "0       1      1      0       1    1\n",
      "1       1      0      1       1    0\n",
      "2       1      1      1       0    1\n",
      "3       0      0      1       1    1\n",
      "4       1      0      0       1    0\n",
      "..    ...    ...    ...     ...  ...\n",
      "995     0      0      1       0    0\n",
      "996     1      1      1       0    0\n",
      "997     1      0      0       1    0\n",
      "998     1      0      0       1    1\n",
      "999     1      1      0       0    1\n",
      "\n",
      "[1000 rows x 5 columns]\n"
     ]
    }
   ],
   "source": [
    "import pandas as pd\n",
    "import numpy as np\n",
    "\n",
    "raw_data = np.random.randint(low=0,high=2,size=(1000, 5))\n",
    "\n",
    "\n",
    "data = pd.DataFrame(raw_data,columns=[\"Diff\", \"Intel\", \"Grade\",\"Letter\", \"SAT\"])\n",
    "\n",
    "print(data)"
   ]
  },
  {
   "cell_type": "code",
   "execution_count": 30,
   "id": "638206a0",
   "metadata": {},
   "outputs": [
    {
     "name": "stdout",
     "output_type": "stream",
     "text": [
      "     Diff  Intel  Grade  Letter  SAT\n",
      "0       1      1      0       1    1\n",
      "1       1      0      1       1    0\n",
      "2       1      1      1       0    1\n",
      "3       0      0      1       1    1\n",
      "4       1      0      0       1    0\n",
      "..    ...    ...    ...     ...  ...\n",
      "745     1      1      1       1    0\n",
      "746     1      1      1       1    1\n",
      "747     0      0      0       1    0\n",
      "748     0      1      0       1    0\n",
      "749     0      0      0       1    0\n",
      "\n",
      "[750 rows x 5 columns]\n"
     ]
    }
   ],
   "source": [
    "train = data[: int(data.shape[0] * 0.75)]\n",
    "\n",
    "print(train)"
   ]
  },
  {
   "cell_type": "code",
   "execution_count": 31,
   "id": "a7a31c60",
   "metadata": {},
   "outputs": [
    {
     "name": "stdout",
     "output_type": "stream",
     "text": [
      "+---------+----------+\n",
      "| Diff(0) | 0.497333 |\n",
      "+---------+----------+\n",
      "| Diff(1) | 0.502667 |\n",
      "+---------+----------+\n"
     ]
    }
   ],
   "source": [
    "model.fit(train)\n",
    "print(model.get_cpds('Diff'))"
   ]
  },
  {
   "cell_type": "code",
   "execution_count": 32,
   "id": "8f6212cd",
   "metadata": {},
   "outputs": [
    {
     "name": "stderr",
     "output_type": "stream",
     "text": [
      "/Users/joseluis/.local/lib/python3.7/site-packages/pandas/core/frame.py:4312: SettingWithCopyWarning: \n",
      "A value is trying to be set on a copy of a slice from a DataFrame\n",
      "\n",
      "See the caveats in the documentation: https://pandas.pydata.org/pandas-docs/stable/user_guide/indexing.html#returning-a-view-versus-a-copy\n",
      "  errors=errors,\n"
     ]
    },
    {
     "data": {
      "application/vnd.jupyter.widget-view+json": {
       "model_id": "322fec5987934cf098ef65174d796045",
       "version_major": 2,
       "version_minor": 0
      },
      "text/plain": [
       "  0%|          | 0/16 [00:00<?, ?it/s]"
      ]
     },
     "metadata": {},
     "output_type": "display_data"
    },
    {
     "data": {
      "text/html": [
       "<div>\n",
       "<style scoped>\n",
       "    .dataframe tbody tr th:only-of-type {\n",
       "        vertical-align: middle;\n",
       "    }\n",
       "\n",
       "    .dataframe tbody tr th {\n",
       "        vertical-align: top;\n",
       "    }\n",
       "\n",
       "    .dataframe thead th {\n",
       "        text-align: right;\n",
       "    }\n",
       "</style>\n",
       "<table border=\"1\" class=\"dataframe\">\n",
       "  <thead>\n",
       "    <tr style=\"text-align: right;\">\n",
       "      <th></th>\n",
       "      <th>Grade</th>\n",
       "    </tr>\n",
       "  </thead>\n",
       "  <tbody>\n",
       "    <tr>\n",
       "      <th>0</th>\n",
       "      <td>0</td>\n",
       "    </tr>\n",
       "    <tr>\n",
       "      <th>1</th>\n",
       "      <td>0</td>\n",
       "    </tr>\n",
       "    <tr>\n",
       "      <th>2</th>\n",
       "      <td>0</td>\n",
       "    </tr>\n",
       "    <tr>\n",
       "      <th>3</th>\n",
       "      <td>0</td>\n",
       "    </tr>\n",
       "    <tr>\n",
       "      <th>4</th>\n",
       "      <td>0</td>\n",
       "    </tr>\n",
       "    <tr>\n",
       "      <th>...</th>\n",
       "      <td>...</td>\n",
       "    </tr>\n",
       "    <tr>\n",
       "      <th>245</th>\n",
       "      <td>1</td>\n",
       "    </tr>\n",
       "    <tr>\n",
       "      <th>246</th>\n",
       "      <td>0</td>\n",
       "    </tr>\n",
       "    <tr>\n",
       "      <th>247</th>\n",
       "      <td>0</td>\n",
       "    </tr>\n",
       "    <tr>\n",
       "      <th>248</th>\n",
       "      <td>0</td>\n",
       "    </tr>\n",
       "    <tr>\n",
       "      <th>249</th>\n",
       "      <td>0</td>\n",
       "    </tr>\n",
       "  </tbody>\n",
       "</table>\n",
       "<p>250 rows × 1 columns</p>\n",
       "</div>"
      ],
      "text/plain": [
       "     Grade\n",
       "0        0\n",
       "1        0\n",
       "2        0\n",
       "3        0\n",
       "4        0\n",
       "..     ...\n",
       "245      1\n",
       "246      0\n",
       "247      0\n",
       "248      0\n",
       "249      0\n",
       "\n",
       "[250 rows x 1 columns]"
      ]
     },
     "execution_count": 32,
     "metadata": {},
     "output_type": "execute_result"
    }
   ],
   "source": [
    "test = data[int(0.75 * data.shape[0]) : data.shape[0]]\n",
    "\n",
    "test.drop('Grade', axis=1, inplace=True)\n",
    "\n",
    "model.predict(test)"
   ]
  }
 ],
 "metadata": {
  "kernelspec": {
   "display_name": "Python 3",
   "language": "python",
   "name": "python3"
  },
  "language_info": {
   "codemirror_mode": {
    "name": "ipython",
    "version": 3
   },
   "file_extension": ".py",
   "mimetype": "text/x-python",
   "name": "python",
   "nbconvert_exporter": "python",
   "pygments_lexer": "ipython3",
   "version": "3.8.16"
  },
  "latex_envs": {
   "LaTeX_envs_menu_present": true,
   "autoclose": false,
   "autocomplete": true,
   "bibliofile": "biblio.bib",
   "cite_by": "apalike",
   "current_citInitial": 1,
   "eqLabelWithNumbers": true,
   "eqNumInitial": 1,
   "hotkeys": {
    "equation": "Ctrl-E",
    "itemize": "Ctrl-I"
   },
   "labels_anchors": false,
   "latex_user_defs": false,
   "report_style_numbering": false,
   "user_envs_cfg": false
  }
 },
 "nbformat": 4,
 "nbformat_minor": 5
}
